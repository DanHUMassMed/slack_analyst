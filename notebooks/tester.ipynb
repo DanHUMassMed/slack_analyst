{
 "cells": [
  {
   "cell_type": "code",
   "execution_count": 2,
   "metadata": {},
   "outputs": [],
   "source": [
    "import os\n",
    "from pathlib import Path\n",
    "from dotenv import load_dotenv\n",
    "\n",
    "env_path = Path('.') / '.env'\n",
    "load_dotenv(dotenv_path=env_path)\n",
    "\n",
    "signing_secret=os.environ['SLACK_SIGNING_SECRET']\n",
    "slack_bot_token = os.environ.get(\"SLACK_BOT_TOKEN\")\n"
   ]
  },
  {
   "cell_type": "code",
   "execution_count": 3,
   "metadata": {},
   "outputs": [
    {
     "name": "stdout",
     "output_type": "stream",
     "text": [
      ":bowtie: - https://emoji.slack-edge.com/T077B9HK6BZ/bowtie/f3ec6f2bb0.png\n",
      ":squirrel: - https://emoji.slack-edge.com/T077B9HK6BZ/squirrel/465f40c0e0.png\n",
      ":glitch_crab: - https://emoji.slack-edge.com/T077B9HK6BZ/glitch_crab/db049f1f9c.png\n",
      ":piggy: - https://emoji.slack-edge.com/T077B9HK6BZ/piggy/b7762ee8cd.png\n",
      ":cubimal_chick: - https://emoji.slack-edge.com/T077B9HK6BZ/cubimal_chick/85961c43d7.png\n",
      ":dusty_stick: - https://emoji.slack-edge.com/T077B9HK6BZ/dusty_stick/6177a62312.png\n",
      ":slack: - https://emoji.slack-edge.com/T077B9HK6BZ/slack/7d462d2443.png\n",
      ":pride: - https://emoji.slack-edge.com/T077B9HK6BZ/pride/56b1bd3388.png\n",
      ":thumbsup_all: - https://emoji.slack-edge.com/T077B9HK6BZ/thumbsup_all/50096a1020.png\n",
      ":slack_call: - https://emoji.slack-edge.com/T077B9HK6BZ/slack_call/b81fffd6dd.png\n",
      ":shipit: - alias:squirrel\n",
      ":white_square: - alias:white_large_square\n",
      ":black_square: - alias:black_large_square\n",
      ":simple_smile: - https://a.slack-edge.com/80588/img/emoji_2017_12_06/apple/simple_smile.png\n"
     ]
    }
   ],
   "source": [
    "import os\n",
    "from slack_sdk import WebClient\n",
    "from slack_sdk.errors import SlackApiError\n",
    "\n",
    "\n",
    "# Initialize a WebClient\n",
    "client = WebClient(token=slack_bot_token)\n",
    "\n",
    "try:\n",
    "    # Call the emoji.list method\n",
    "    response = client.emoji_list()\n",
    "    emojis = response['emoji']\n",
    "\n",
    "    # Print the list of emojis\n",
    "    for emoji, url in emojis.items():\n",
    "        print(f\":{emoji}: - {url}\")\n",
    "\n",
    "except SlackApiError as e:\n",
    "    print(f\"Error fetching emojis: {e.response['error']}\")\n",
    "\n"
   ]
  },
  {
   "cell_type": "code",
   "execution_count": 1,
   "metadata": {},
   "outputs": [
    {
     "name": "stdout",
     "output_type": "stream",
     "text": [
      "[{'user': 'U077NUWPN9K', 'type': 'message', 'ts': '1718575120.205999', 'client_msg_id': '9ecbc7bb-838c-4315-8cda-eac43b338262', 'text': '<https://www.biorxiv.org/content/10.1101/2024.05.20.594820v1?rss=1&amp;utm_source=dlvr.it&amp;utm_medium=twitter>', 'team': 'T077K7ED4SJ', 'attachments': [{'from_url': 'https://www.biorxiv.org/content/10.1101/2024.05.20.594820v1?rss=1&utm_source=dlvr.it&utm_medium=twitter', 'ts': 1716274800, 'thumb_url': 'https://www.biorxiv.org/sites/default/files/images/biorxiv_logo_homepage7-5-small.png', 'thumb_width': 252, 'thumb_height': 252, 'service_icon': 'https://www.biorxiv.org/sites/default/files/images/favicon.ico', 'id': 1, 'original_url': 'https://www.biorxiv.org/content/10.1101/2024.05.20.594820v1?rss=1&amp;utm_source=dlvr.it&amp;utm_medium=twitter', 'fallback': 'bioRxiv: Germline status and micronutrient availability regulate a somatic mitochondrial quality control pathway via short-chain fatty acid metabolism', 'text': 'Reproductive status, such as pregnancy and menopause in women, profoundly influences metabolism of the body. Mitochondria likely orchestrate many of these metabolic changes. However, the influence of reproductive status on somatic mitochondria and the underlying mechanisms remain largely unexplored. We demonstrate that reproductive signals modulate mitochondria in the Caenorhabditis elegans soma. We show that the germline acts via an RNA endonuclease, HOE-1, which despite its housekeeping role in tRNA maturation, selectively regulates the mitochondrial unfolded protein response (UPRmt). Mechanistically, we uncover a fatty acid metabolism pathway acting upstream of HOE-1 to convey germline status. Furthermore, we link vitamin B12’s dietary intake to the germline’s regulatory impact on HOE-1-driven UPRmt. Combined, our study uncovers a germline-somatic mitochondrial connection, reveals the underlying mechanism, and highlights the importance of micronutrients in modulating this connection. Our findings provide insights into the interplay between reproductive biology and metabolic regulation.\\n\\n### Competing Interest Statement\\n\\nThe authors have declared no competing interest.', 'title': 'Germline status and micronutrient availability regulate a somatic mitochondrial quality control pathway via short-chain fatty acid metabolism', 'title_link': 'https://www.biorxiv.org/content/10.1101/2024.05.20.594820v1?rss=1&utm_source=dlvr.it&utm_medium=twitter', 'service_name': 'bioRxiv'}], 'blocks': [{'type': 'rich_text', 'block_id': 'NQdUr', 'elements': [{'type': 'rich_text_section', 'elements': [{'type': 'link', 'url': 'https://www.biorxiv.org/content/10.1101/2024.05.20.594820v1?rss=1&utm_source=dlvr.it&utm_medium=twitter'}]}]}]}, {'user': 'U077NUWPN9K', 'type': 'message', 'ts': '1718574978.496809', 'client_msg_id': 'b1ba0ca2-3d95-4434-ac4b-fb159c474e18', 'text': '<https://www.biorxiv.org/content/10.1101/2024.05.27.596058v1>', 'team': 'T077K7ED4SJ', 'blocks': [{'type': 'rich_text', 'block_id': 'EDpdr', 'elements': [{'type': 'rich_text_section', 'elements': [{'type': 'link', 'url': 'https://www.biorxiv.org/content/10.1101/2024.05.27.596058v1'}]}]}]}, {'user': 'U077NUWPN9K', 'type': 'message', 'ts': '1718574962.117049', 'client_msg_id': '037d97e9-cf69-46e6-89f3-c30ac687b6af', 'text': '<https://pubmed.ncbi.nlm.nih.gov/38187566/>', 'team': 'T077K7ED4SJ', 'thread_ts': '1718574962.117049', 'reply_count': 1, 'reply_users_count': 1, 'latest_reply': '1718575067.945109', 'reply_users': ['U077NUWPN9K'], 'is_locked': False, 'subscribed': False, 'attachments': [{'from_url': 'https://pubmed.ncbi.nlm.nih.gov/38187566/', 'image_url': 'https://cdn.ncbi.nlm.nih.gov/pubmed/persistent/pubmed-meta-image-v2.jpg', 'image_width': 1600, 'image_height': 830, 'image_bytes': 334631, 'service_icon': 'https://cdn.ncbi.nlm.nih.gov/coreutils/nwds/img/favicons/favicon-57.png', 'id': 1, 'original_url': 'https://pubmed.ncbi.nlm.nih.gov/38187566/', 'fallback': 'PubMed: Structural elucidation of how ARF small GTPases induce membrane tubulation for vesicle fission - PubMed', 'text': 'The ADP-Ribosylation Factor (ARF) small GTPases have been found to act in vesicle fission through a direct ability to tubulate membrane. Here, we have used cryo-electron microscopy (EM) to solve the structure of an ARF6 protein lattice assembled on tubulated membrane to 3.9 Å resolution. ARF6 forms …', 'title': 'Structural elucidation of how ARF small GTPases induce membrane tubulation for vesicle fission - PubMed', 'title_link': 'https://pubmed.ncbi.nlm.nih.gov/38187566/', 'service_name': 'PubMed'}], 'blocks': [{'type': 'rich_text', 'block_id': 'fyfic', 'elements': [{'type': 'rich_text_section', 'elements': [{'type': 'link', 'url': 'https://pubmed.ncbi.nlm.nih.gov/38187566/'}]}]}]}, {'user': 'U077NUWPN9K', 'type': 'message', 'ts': '1718574939.640669', 'client_msg_id': '7f928a29-b995-449a-af04-2b6a99e352a5', 'text': '<https://www.science.org/doi/10.1126/sciadv.abj8156>', 'team': 'T077K7ED4SJ', 'blocks': [{'type': 'rich_text', 'block_id': 'Zpf5N', 'elements': [{'type': 'rich_text_section', 'elements': [{'type': 'link', 'url': 'https://www.science.org/doi/10.1126/sciadv.abj8156'}]}]}]}, {'text': 'Xatse thesis', 'files': [{'id': 'F078QRS2USV', 'created': 1718574894, 'timestamp': 1718574894, 'name': 'Mark Xatse Thesis .pdf', 'title': 'Mark Xatse Thesis .pdf', 'mimetype': 'application/pdf', 'filetype': 'pdf', 'pretty_type': 'PDF', 'user': 'U077NUWPN9K', 'user_team': 'E077B9HK6BZ', 'editable': False, 'size': 17931722, 'mode': 'hosted', 'is_external': False, 'external_type': '', 'is_public': True, 'public_url_shared': False, 'display_as_bot': False, 'username': '', 'url_private': 'https://files.slack.com/files-pri/T077B9HK6BZ-F078QRS2USV/mark_xatse_thesis_.pdf', 'url_private_download': 'https://files.slack.com/files-pri/T077B9HK6BZ-F078QRS2USV/download/mark_xatse_thesis_.pdf', 'media_display_type': 'unknown', 'thumb_pdf': 'https://files.slack.com/files-tmb/T077B9HK6BZ-F078QRS2USV-2dbcbbe9bf/mark_xatse_thesis__thumb_pdf.png', 'thumb_pdf_w': 935, 'thumb_pdf_h': 1210, 'permalink': 'https://dphsandbox1.enterprise.slack.com/files/U077NUWPN9K/F078QRS2USV/mark_xatse_thesis_.pdf', 'permalink_public': 'https://slack-files.com/T077B9HK6BZ-F078QRS2USV-b1143cef52', 'is_starred': False, 'has_rich_preview': False, 'file_access': 'visible'}], 'upload': False, 'user': 'U077NUWPN9K', 'display_as_bot': False, 'blocks': [{'type': 'rich_text', 'block_id': '3Vyq6', 'elements': [{'type': 'rich_text_section', 'elements': [{'type': 'text', 'text': 'Xatse thesis'}]}]}], 'type': 'message', 'ts': '1718574919.783449', 'client_msg_id': '17148d1e-5786-4819-a0a4-d68dbd6fc6c7'}, {'user': 'U077NUWPN9K', 'type': 'message', 'ts': '1718574745.668709', 'client_msg_id': '1ed19c2f-b0dc-45be-a377-cebd571974b2', 'text': '<https://rupress.org/jcb/article/220/11/e202102122/212690/mmBCFA-C17iso-ensures-endoplasmic-reticulum>', 'team': 'T077K7ED4SJ', 'blocks': [{'type': 'rich_text', 'block_id': 'kH6z4', 'elements': [{'type': 'rich_text_section', 'elements': [{'type': 'link', 'url': 'https://rupress.org/jcb/article/220/11/e202102122/212690/mmBCFA-C17iso-ensures-endoplasmic-reticulum'}]}]}]}, {'user': 'U077NUWPN9K', 'type': 'message', 'ts': '1718574728.368839', 'client_msg_id': '181e88dc-0441-4d9b-a1c2-a1613b7f0dbc', 'text': '<https://www.sciencedirect.com/science/article/pii/S0968000424001312?dgcid=author>', 'team': 'T077K7ED4SJ', 'blocks': [{'type': 'rich_text', 'block_id': 'XIeSO', 'elements': [{'type': 'rich_text_section', 'elements': [{'type': 'link', 'url': 'https://www.sciencedirect.com/science/article/pii/S0968000424001312?dgcid=author'}]}]}]}, {'user': 'U077NUWPN9K', 'type': 'message', 'ts': '1718574713.066609', 'client_msg_id': '55f7552d-3fa7-4a26-a691-a22a97c49dd4', 'text': '<https://www.biorxiv.org/content/10.1101/2024.05.31.596797v1>', 'team': 'T077K7ED4SJ', 'attachments': [{'from_url': 'https://www.biorxiv.org/content/10.1101/2024.05.31.596797v1', 'ts': 1717138800, 'thumb_url': 'https://www.biorxiv.org/sites/default/files/images/biorxiv_logo_homepage7-5-small.png', 'thumb_width': 252, 'thumb_height': 252, 'service_icon': 'https://www.biorxiv.org/sites/default/files/images/favicon.ico', 'id': 1, 'original_url': 'https://www.biorxiv.org/content/10.1101/2024.05.31.596797v1', 'fallback': 'bioRxiv: Non-disruptive inducible labeling of ER-membrane contact sites using the Lamin B Receptor', 'text': 'Membrane contact sites (MCSs) are areas of close proximity between organelles that allow the exchange of material, among other roles. The endoplasmic reticulum (ER) has MCSs with a variety of organelles in the cell. MCSs are dynamic, responding to changes in cell state, and are therefore best visualized through inducible labeling methods. However, existing methods typically distort ER-MCSs, by expanding contacts or creating artificial ones. Here we describe a new method for inducible labeling of ER-MCSs using the Lamin B receptor (LBR) and a generic anchor protein on the partner organelle. Termed LaBeRling , this versatile, one-to-many approach allows labeling of different types of ER-MCSs (mitochondria, plasma membrane, lysosomes, early endosomes, lipid droplets and Golgi), on-demand, in interphase or mitotic cells. LaBeRling is non-disruptive and does not change ER-MCSs in terms of the contact number, extent or distance measured; as determined by light microscopy or a deep-learning volume electron microscopy approach. We applied this method to study the changes in ER-MCSs during mitosis and to label novel ER-Golgi contact sites at different mitotic stages in live cells.\\n\\n### Competing Interest Statement\\n\\nThe authors have declared no competing interest.', 'title': 'Non-disruptive inducible labeling of ER-membrane contact sites using the Lamin B Receptor', 'title_link': 'https://www.biorxiv.org/content/10.1101/2024.05.31.596797v1', 'service_name': 'bioRxiv'}], 'blocks': [{'type': 'rich_text', 'block_id': 'ynXPi', 'elements': [{'type': 'rich_text_section', 'elements': [{'type': 'link', 'url': 'https://www.biorxiv.org/content/10.1101/2024.05.31.596797v1'}]}]}]}, {'user': 'U077NUWPN9K', 'type': 'message', 'ts': '1718574700.161989', 'client_msg_id': '80a433c7-0ff8-45dc-ada7-4b68d91a3bc9', 'text': '<https://www.cell.com/cell-reports/fulltext/S2211-1247(24)00686-7?rss=yes&amp;utm_source=dlvr.it&amp;utm_medium=twitter>', 'team': 'T077K7ED4SJ', 'blocks': [{'type': 'rich_text', 'block_id': 'LQdXI', 'elements': [{'type': 'rich_text_section', 'elements': [{'type': 'link', 'url': 'https://www.cell.com/cell-reports/fulltext/S2211-1247(24)00686-7?rss=yes&utm_source=dlvr.it&utm_medium=twitter'}]}]}]}, {'subtype': 'channel_join', 'user': 'U0787Q0C5BN', 'text': '<@U0787Q0C5BN> has joined the channel', 'inviter': 'U077NUWPN9K', 'type': 'message', 'ts': '1718574530.956979'}, {'subtype': 'channel_join', 'user': 'U077RNPGJ2F', 'text': '<@U077RNPGJ2F> has joined the channel', 'inviter': 'U077NUWPN9K', 'type': 'message', 'ts': '1718574499.234619'}, {'subtype': 'channel_join', 'user': 'U077NUWPN9K', 'text': '<@U077NUWPN9K> has joined the channel', 'type': 'message', 'ts': '1718574475.661659'}]\n"
     ]
    }
   ],
   "source": [
    "import json\n",
    "\n",
    "def read_json_from_file(file_path):\n",
    "    \n",
    "    with open(file_path, 'r') as file:\n",
    "        data = json.load(file)\n",
    "    return data\n",
    "\n",
    "# Example usage\n",
    "file_path = 'messages.json'\n",
    "messages = read_json_from_file(file_path)\n",
    "print(messages)"
   ]
  },
  {
   "cell_type": "code",
   "execution_count": 12,
   "metadata": {},
   "outputs": [],
   "source": [
    "import re\n",
    "\n",
    "def process_messages(messages):\n",
    "    urls = []\n",
    "    for message in messages:\n",
    "        user = message['user']\n",
    "        type = message['type']\n",
    "        #msg_id = message['client_msg_id']\n",
    "        text = message.get('text')\n",
    "        files = message.get('files')\n",
    "        \n",
    "        if text:\n",
    "            urls.extend(extract_urls(text))\n",
    "            \n",
    "    write_json_to_file(urls,\"urls.json\")\n",
    "\n",
    "import re\n",
    "from urllib.parse import quote, unquote\n",
    "\n",
    "def extract_urls(text):\n",
    "    \"\"\"\n",
    "    Extracts all well-formed URLs starting with http:// or https:// from the given text\n",
    "    and percent-encodes any invalid characters.\n",
    "\n",
    "    Args:\n",
    "    text (str): The input text containing URLs.\n",
    "\n",
    "    Returns:\n",
    "    list: A list of extracted and encoded URLs.\n",
    "    \"\"\"\n",
    "    url_pattern = re.compile(r'https?://[^\\s<>\"]+|www\\.[^\\s<>\"]+')\n",
    "    urls = url_pattern.findall(text)\n",
    "    encoded_urls = [quote(url, safe=':/') for url in urls]\n",
    "    decoded_urls = [unquote(url) for url in encoded_urls]\n",
    "    return decoded_urls\n",
    "\n",
    "def write_json_to_file(json_data,file_nm=\"messages.json\"):\n",
    "    with open(file_nm, \"w\") as f:\n",
    "        json.dump(json_data, f, indent=4)\n",
    "        "
   ]
  },
  {
   "cell_type": "code",
   "execution_count": 13,
   "metadata": {},
   "outputs": [],
   "source": [
    "process_messages(messages)"
   ]
  },
  {
   "cell_type": "code",
   "execution_count": 11,
   "metadata": {},
   "outputs": [
    {
     "name": "stdout",
     "output_type": "stream",
     "text": [
      "['https://www.example1.com', 'http://example.org', 'https://sub.example.com/path?query=param#fragment', 'www.example.com', 'http://example.com/greater']\n"
     ]
    }
   ],
   "source": [
    "import re\n",
    "from urllib.parse import quote, unquote\n",
    "\n",
    "def extract_and_encode_urls(text):\n",
    "   \n",
    "    url_pattern = re.compile(r'https?://[^\\s<>\"]+|www\\.[^\\s<>\"]+')\n",
    "    urls = url_pattern.findall(text)\n",
    "    encoded_urls = [quote(url, safe=':/') for url in urls]\n",
    "    decoded_urls = [unquote(url) for url in encoded_urls]\n",
    "    return decoded_urls\n",
    "\n",
    "# Example usage\n",
    "text = \"\"\"\n",
    "Here are some URLs:\n",
    "https://www.example1.com>\n",
    "http://example.org\n",
    "https://sub.example.com/path?query=param#fragment\n",
    "Invalid URLs:\n",
    "htp://invalid.com\n",
    "www.example.com\n",
    "http://example.com/greater>than\n",
    "\"\"\"\n",
    "\n",
    "urls = extract_and_encode_urls(text)\n",
    "print(urls)\n"
   ]
  },
  {
   "cell_type": "code",
   "execution_count": 23,
   "metadata": {},
   "outputs": [
    {
     "name": "stdout",
     "output_type": "stream",
     "text": [
      "https://www.ncbi.nlm.nih.gov/pmc/articles/PMC10769218/\n"
     ]
    }
   ],
   "source": [
    "import requests\n",
    "from urllib.parse import urlparse, parse_qs\n",
    "\n",
    "def convert_to_download_url(pmid):\n",
    "    \n",
    "    # Query the PubMed API to get the PMC ID\n",
    "    api_url = f\"https://www.ncbi.nlm.nih.gov/pmc/utils/idconv/v1.0/?tool=slack_download&email=daniel.higgins@umassmed.edu&ids={pmid}&format=json\"\n",
    "    response = requests.get(api_url)\n",
    "    \n",
    "    if response.status_code != 200:\n",
    "        return \"Error querying PubMed API\"\n",
    "    \n",
    "    data = response.json()\n",
    "    \n",
    "    # Check if a PMC ID exists\n",
    "    if 'records' in data and data['records'][0].get('pmcid'):\n",
    "        pmc_id = data['records'][0]['pmcid']\n",
    "        pmc_url = f\"https://www.ncbi.nlm.nih.gov/pmc/articles/{pmc_id}/\"\n",
    "        return pmc_url\n",
    "    else:\n",
    "        return None\n",
    "\n",
    "\n",
    "pmc_url = convert_to_download_url(38187566)\n",
    "print(pmc_url)\n"
   ]
  },
  {
   "cell_type": "code",
   "execution_count": 16,
   "metadata": {},
   "outputs": [
    {
     "name": "stdout",
     "output_type": "stream",
     "text": [
      "38187566\n"
     ]
    }
   ],
   "source": [
    "import re\n",
    "\n",
    "def extract_pmid_from_pubmed_url(url):\n",
    "    \"\"\"\n",
    "    Extracts the PMID from a PubMed URL if it starts with 'https://pubmed.ncbi.nlm.nih.gov'.\n",
    "\n",
    "    Args:\n",
    "    url (str): The input URL.\n",
    "\n",
    "    Returns:\n",
    "    str: The extracted PMID, or None if the URL format is not recognized.\n",
    "    \"\"\"\n",
    "    # Define the pattern to match the PMID\n",
    "    pattern = r\"https://pubmed.ncbi.nlm.nih.gov/(\\d+)/?\"\n",
    "\n",
    "    # Try to match the pattern in the URL\n",
    "    match = re.match(pattern, url)\n",
    "    if match:\n",
    "        return match.group(1)\n",
    "    else:\n",
    "        return None\n",
    "\n",
    "# Example usage\n",
    "url = \"https://pubmed.ncbi.nlm.nih.gov/38187566\"\n",
    "pmid = extract_pmid_from_pubmed_url(url)\n",
    "print(pmid)\n"
   ]
  },
  {
   "cell_type": "code",
   "execution_count": null,
   "metadata": {},
   "outputs": [],
   "source": []
  }
 ],
 "metadata": {
  "kernelspec": {
   "display_name": "dan-dev",
   "language": "python",
   "name": "python3"
  },
  "language_info": {
   "codemirror_mode": {
    "name": "ipython",
    "version": 3
   },
   "file_extension": ".py",
   "mimetype": "text/x-python",
   "name": "python",
   "nbconvert_exporter": "python",
   "pygments_lexer": "ipython3",
   "version": "3.1.undefined"
  }
 },
 "nbformat": 4,
 "nbformat_minor": 2
}
